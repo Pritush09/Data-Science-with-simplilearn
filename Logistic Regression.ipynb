{
 "cells": [
  {
   "cell_type": "code",
   "execution_count": 1,
   "id": "21944e5a",
   "metadata": {},
   "outputs": [],
   "source": [
    "import numpy as np\n",
    "import pandas as pd \n",
    "from sklearn.datasets import load_digits\n",
    "from sklearn.model_selection import train_test_split\n",
    "import seaborn as sns\n",
    "from sklearn import metrics"
   ]
  },
  {
   "cell_type": "code",
   "execution_count": 2,
   "id": "67364cd3",
   "metadata": {},
   "outputs": [],
   "source": [
    "digits = load_digits()"
   ]
  },
  {
   "cell_type": "code",
   "execution_count": null,
   "id": "42680582",
   "metadata": {},
   "outputs": [],
   "source": [
    "import matplotlib.pyplot as plt \n",
    "%matplotlib\n",
    "# this is to stop the \n",
    "import time\n",
    "import asyncio\n",
    "import aiohttp\n",
    "\n",
    "async def get_html(semaphore, session, url, delay=6):\n",
    "    await semaphore.acquire()\n",
    "    async with session.get(url) as res:\n",
    "        html = await res.text()\n",
    "        await asyncio.sleep(delay)\n",
    "        semaphore.release()\n",
    "        return html\n",
    "\n",
    "async def main():\n",
    "    categories = {\n",
    "        \"makeup\": \"https://www.sephora.com/shop/\"\n",
    "    }\n",
    "    semaphore = asyncio.Semaphore(value=1)\n",
    "    tasks = []\n",
    "    async with aiohttp.ClientSession(loop=loop, connector=aiohttp.TCPConnector(ssl=False)) as session:\n",
    "        for category, url in categories.items():\n",
    "                # Get HTML of all pages\n",
    "            tasks.append(get_html(semaphore, session, url))\n",
    "        res = await asyncio.gather(*tasks)\n",
    "\n",
    "if __name__ == \"__main__\":\n",
    "    loop = asyncio.get_event_loop()\n",
    "    loop.run_until_complete(main())"
   ]
  },
  {
   "cell_type": "code",
   "execution_count": null,
   "id": "72516131",
   "metadata": {},
   "outputs": [],
   "source": []
  }
 ],
 "metadata": {
  "kernelspec": {
   "display_name": "Python 3 (ipykernel)",
   "language": "python",
   "name": "python3"
  },
  "language_info": {
   "codemirror_mode": {
    "name": "ipython",
    "version": 3
   },
   "file_extension": ".py",
   "mimetype": "text/x-python",
   "name": "python",
   "nbconvert_exporter": "python",
   "pygments_lexer": "ipython3",
   "version": "3.10.0"
  }
 },
 "nbformat": 4,
 "nbformat_minor": 5
}
